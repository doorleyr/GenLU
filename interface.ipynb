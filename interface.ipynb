{
 "cells": [
  {
   "cell_type": "code",
   "execution_count": 1,
   "id": "29c45e34",
   "metadata": {},
   "outputs": [],
   "source": [
    "import gradio as gr\n",
    "from diffusers import DDPMScheduler, UNet2DModel, DDPMPipeline\n",
    "from accelerate import Accelerator\n",
    "import os\n",
    "import torch"
   ]
  },
  {
   "cell_type": "code",
   "execution_count": 2,
   "id": "c8fa5cb2",
   "metadata": {},
   "outputs": [],
   "source": [
    "# os.environ[\"CUDA_VISIBLE_DEVICES\"] = \"0\"\n",
    "# os.environ[\"NVIDIA_VISIBLE_DEVICES\"] = \"0\""
   ]
  },
  {
   "cell_type": "code",
   "execution_count": 3,
   "id": "7daf1c24",
   "metadata": {},
   "outputs": [],
   "source": [
    "output_dir=\"model_230402\""
   ]
  },
  {
   "cell_type": "code",
   "execution_count": 4,
   "id": "e61193b8",
   "metadata": {},
   "outputs": [],
   "source": [
    "model=UNet2DModel.from_pretrained(\"./{}/unet/\".format(output_dir)).to(torch.device(\"cuda\"))"
   ]
  },
  {
   "cell_type": "code",
   "execution_count": 6,
   "id": "c1af1a63",
   "metadata": {},
   "outputs": [],
   "source": [
    "# noise_scheduler = DDPMScheduler(num_train_timesteps=1000)\n",
    "noise_scheduler = DDPMScheduler(num_train_timesteps=100)"
   ]
  },
  {
   "cell_type": "code",
   "execution_count": 7,
   "id": "ec56cad2",
   "metadata": {},
   "outputs": [],
   "source": [
    "mixed_precision='fp16'\n",
    "gradient_accumulation_steps=1"
   ]
  },
  {
   "cell_type": "code",
   "execution_count": 8,
   "id": "89af8c55",
   "metadata": {},
   "outputs": [],
   "source": [
    "accelerator = Accelerator(\n",
    "    mixed_precision=mixed_precision,\n",
    "    gradient_accumulation_steps=gradient_accumulation_steps, \n",
    "    log_with=\"tensorboard\",\n",
    "    project_dir=os.path.join(output_dir, \"logs\")\n",
    ")"
   ]
  },
  {
   "cell_type": "code",
   "execution_count": 9,
   "id": "4ad62944",
   "metadata": {},
   "outputs": [],
   "source": [
    "pipeline = DDPMPipeline(unet=accelerator.unwrap_model(model), scheduler=noise_scheduler)"
   ]
  },
  {
   "cell_type": "code",
   "execution_count": 10,
   "id": "63a64894",
   "metadata": {},
   "outputs": [],
   "source": [
    "def return_images(seed1, seed2, audio):\n",
    "    images = pipeline(batch_size = 1,\n",
    "                      generator=torch.manual_seed(seed1+seed2)).images\n",
    "    return images[0]                 "
   ]
  },
  {
   "cell_type": "code",
   "execution_count": 13,
   "id": "0f694d77",
   "metadata": {},
   "outputs": [],
   "source": [
    "# def greet(name):\n",
    "#     return \"Hello \" + name + \"!\""
   ]
  },
  {
   "cell_type": "code",
   "execution_count": 14,
   "id": "294e8430",
   "metadata": {},
   "outputs": [
    {
     "name": "stdout",
     "output_type": "stream",
     "text": [
      "Running on local URL:  http://127.0.0.1:7861\n",
      "Running on public URL: https://29b139f46e52cea7b3.gradio.live\n",
      "\n",
      "This share link expires in 72 hours. For free permanent hosting and GPU upgrades (NEW!), check out Spaces: https://huggingface.co/spaces\n"
     ]
    },
    {
     "data": {
      "text/html": [
       "<div><iframe src=\"https://29b139f46e52cea7b3.gradio.live\" width=\"100%\" height=\"500\" allow=\"autoplay; camera; microphone; clipboard-read; clipboard-write;\" frameborder=\"0\" allowfullscreen></iframe></div>"
      ],
      "text/plain": [
       "<IPython.core.display.HTML object>"
      ]
     },
     "metadata": {},
     "output_type": "display_data"
    },
    {
     "data": {
      "text/plain": []
     },
     "execution_count": 14,
     "metadata": {},
     "output_type": "execute_result"
    },
    {
     "name": "stderr",
     "output_type": "stream",
     "text": [
      "Traceback (most recent call last):\n",
      "  File \"/mas/u/doorleyr/.pyenv/versions/torch_lu/lib/python3.9/site-packages/gradio/routes.py\", line 393, in run_predict\n",
      "    output = await app.get_blocks().process_api(\n",
      "  File \"/mas/u/doorleyr/.pyenv/versions/torch_lu/lib/python3.9/site-packages/gradio/blocks.py\", line 1108, in process_api\n",
      "    result = await self.call_function(\n",
      "  File \"/mas/u/doorleyr/.pyenv/versions/torch_lu/lib/python3.9/site-packages/gradio/blocks.py\", line 915, in call_function\n",
      "    prediction = await anyio.to_thread.run_sync(\n",
      "  File \"/mas/u/doorleyr/.pyenv/versions/torch_lu/lib/python3.9/site-packages/anyio/to_thread.py\", line 31, in run_sync\n",
      "    return await get_asynclib().run_sync_in_worker_thread(\n",
      "  File \"/mas/u/doorleyr/.pyenv/versions/torch_lu/lib/python3.9/site-packages/anyio/_backends/_asyncio.py\", line 937, in run_sync_in_worker_thread\n",
      "    return await future\n",
      "  File \"/mas/u/doorleyr/.pyenv/versions/torch_lu/lib/python3.9/site-packages/anyio/_backends/_asyncio.py\", line 867, in run\n",
      "    result = context.run(func, *args)\n",
      "  File \"/tmp/ipykernel_130554/3428893713.py\", line 2, in return_images\n",
      "    images = pipeline(batch_size = 1,\n",
      "  File \"/mas/u/doorleyr/.pyenv/versions/torch_lu/lib/python3.9/site-packages/torch/utils/_contextlib.py\", line 115, in decorate_context\n",
      "    return func(*args, **kwargs)\n",
      "  File \"/mas/u/doorleyr/.pyenv/versions/torch_lu/lib/python3.9/site-packages/diffusers/pipelines/ddpm/pipeline_ddpm.py\", line 83, in __call__\n",
      "    self.scheduler.set_timesteps(num_inference_steps)\n",
      "  File \"/mas/u/doorleyr/.pyenv/versions/torch_lu/lib/python3.9/site-packages/diffusers/schedulers/scheduling_ddpm.py\", line 180, in set_timesteps\n",
      "    raise ValueError(\n",
      "ValueError: `num_inference_steps`: 1000 cannot be larger than `self.config.train_timesteps`: 100 as the unet model trained with this scheduler can only handle maximal 100 timesteps.\n"
     ]
    }
   ],
   "source": [
    "demo = gr.Interface(\n",
    "    fn=return_images,\n",
    "    inputs=[gr.Slider(0, 100,label=\"Residential Density\"),\n",
    "            gr.Slider(0, 100,label=\"Employment Density\"),\n",
    "            gr.Audio(source=\"microphone\")],\n",
    "#     inputs=None,\n",
    "#     inputs=gr.Textbox(lines=2, placeholder=\"Name Here...\"),\n",
    "    outputs=\"image\",\n",
    ")\n",
    "demo.launch(share=True)"
   ]
  },
  {
   "cell_type": "code",
   "execution_count": null,
   "id": "b2fbc61f",
   "metadata": {},
   "outputs": [],
   "source": []
  }
 ],
 "metadata": {
  "kernelspec": {
   "display_name": "torch_lu",
   "language": "python",
   "name": "torch_lu"
  },
  "language_info": {
   "codemirror_mode": {
    "name": "ipython",
    "version": 3
   },
   "file_extension": ".py",
   "mimetype": "text/x-python",
   "name": "python",
   "nbconvert_exporter": "python",
   "pygments_lexer": "ipython3",
   "version": "3.9.0"
  }
 },
 "nbformat": 4,
 "nbformat_minor": 5
}
