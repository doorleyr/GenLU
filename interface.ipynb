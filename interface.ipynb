{
 "cells": [
  {
   "cell_type": "code",
   "execution_count": 1,
   "id": "29c45e34",
   "metadata": {},
   "outputs": [],
   "source": [
    "import gradio as gr\n",
    "from diffusers import DDPMScheduler, UNet2DModel, DDPMPipeline\n",
    "from accelerate import Accelerator\n",
    "import os\n",
    "import torch"
   ]
  },
  {
   "cell_type": "code",
   "execution_count": 2,
   "id": "c8fa5cb2",
   "metadata": {},
   "outputs": [],
   "source": [
    "os.environ[\"CUDA_VISIBLE_DEVICES\"] = \"0\"\n",
    "os.environ[\"NVIDIA_VISIBLE_DEVICES\"] = \"0\""
   ]
  },
  {
   "cell_type": "code",
   "execution_count": 3,
   "id": "7daf1c24",
   "metadata": {},
   "outputs": [],
   "source": [
    "output_dir=\"model_230402\""
   ]
  },
  {
   "cell_type": "code",
   "execution_count": null,
   "id": "e61193b8",
   "metadata": {},
   "outputs": [],
   "source": [
    "model=UNet2DModel.from_pretrained(\"./{}/unet/\".format(output_dir)).to(torch.device(\"cuda\"))"
   ]
  },
  {
   "cell_type": "code",
   "execution_count": null,
   "id": "c1af1a63",
   "metadata": {},
   "outputs": [],
   "source": [
    "noise_scheduler = DDPMScheduler(num_train_timesteps=1000)"
   ]
  },
  {
   "cell_type": "code",
   "execution_count": null,
   "id": "ec56cad2",
   "metadata": {},
   "outputs": [],
   "source": [
    "mixed_precision='fp16'\n",
    "gradient_accumulation_steps=1"
   ]
  },
  {
   "cell_type": "code",
   "execution_count": null,
   "id": "89af8c55",
   "metadata": {},
   "outputs": [],
   "source": [
    "accelerator = Accelerator(\n",
    "    mixed_precision=mixed_precision,\n",
    "    gradient_accumulation_steps=gradient_accumulation_steps, \n",
    "    log_with=\"tensorboard\",\n",
    "    project_dir=os.path.join(output_dir, \"logs\")\n",
    ")"
   ]
  },
  {
   "cell_type": "code",
   "execution_count": null,
   "id": "4ad62944",
   "metadata": {},
   "outputs": [],
   "source": [
    "pipeline = DDPMPipeline(unet=accelerator.unwrap_model(model), scheduler=noise_scheduler)"
   ]
  },
  {
   "cell_type": "code",
   "execution_count": null,
   "id": "63a64894",
   "metadata": {},
   "outputs": [],
   "source": [
    "def return_images(seed):\n",
    "    images = pipeline(batch_size = 1,\n",
    "                      generator=torch.manual_seed(seed)).images\n",
    "    return images[0]                 "
   ]
  },
  {
   "cell_type": "code",
   "execution_count": null,
   "id": "0f694d77",
   "metadata": {},
   "outputs": [],
   "source": [
    "# def greet(name):\n",
    "#     return \"Hello \" + name + \"!\""
   ]
  },
  {
   "cell_type": "code",
   "execution_count": null,
   "id": "294e8430",
   "metadata": {},
   "outputs": [],
   "source": [
    "demo = gr.Interface(\n",
    "    fn=return_images,\n",
    "    inputs=gr.Slider(0, 100,label=\"goodliness\"),\n",
    "#     inputs=None,\n",
    "#     inputs=gr.Textbox(lines=2, placeholder=\"Name Here...\"),\n",
    "    outputs=\"image\",\n",
    ")\n",
    "demo.launch()"
   ]
  },
  {
   "cell_type": "code",
   "execution_count": null,
   "id": "b2fbc61f",
   "metadata": {},
   "outputs": [],
   "source": []
  }
 ],
 "metadata": {
  "kernelspec": {
   "display_name": "torch_lu",
   "language": "python",
   "name": "torch_lu"
  },
  "language_info": {
   "codemirror_mode": {
    "name": "ipython",
    "version": 3
   },
   "file_extension": ".py",
   "mimetype": "text/x-python",
   "name": "python",
   "nbconvert_exporter": "python",
   "pygments_lexer": "ipython3",
   "version": "3.9.0"
  }
 },
 "nbformat": 4,
 "nbformat_minor": 5
}
